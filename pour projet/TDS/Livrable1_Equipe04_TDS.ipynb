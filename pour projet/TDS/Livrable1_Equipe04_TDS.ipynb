{
 "cells": [
  {
   "cell_type": "code",
   "execution_count": null,
   "id": "b6a23a9b-2754-4311-937e-9d5daf9f729e",
   "metadata": {},
   "outputs": [],
   "source": []
  },
  {
   "cell_type": "markdown",
   "id": "8c7d1176-8168-4f93-9edd-4fa0d3c82924",
   "metadata": {},
   "source": [
    "# Livrable 1 :\n",
    "\n",
    "## Présentation de notre équipe :\n",
    "- Flavio De Barros Barbosa\n",
    "- Malo Rabaux\n",
    "- Evan Bohic\n",
    "- Galaad Goutier\n",
    "- Baptiste Letellier\n",
    "- Shahinèze Kadiri\n",
    "  \n",
    "\n",
    "## Contexte :\n",
    "- L'agence AIL3C fait face à une situation critique suite à la perte de l'agent K57⁠. Lors d'une mission d'infiltration dans une base secrète de cyberpirates, l'agent K57 a réussi à récupérer des données importantes mais s'est retrouvé piégé dans une salle de conférence⁠ avant d’avoir pu s’échapper. Lors de cette mission toute communication était rendu impossible avec l'extérieur, car la pièce n'avait pas d'accès réseau⁠⁠, les murs bloquaient toute communication par ondes⁠ et le seul équipement disponible était un micro connecté au système d'audioconférence, qui n'était activé que lors de l'utilisation de la salle.⁠\n",
    "Le département R&D doit maintenant développer une solution technique pour éviter qu'une situation similaire ne se reproduise, en permettant la communication vers l'extérieur dans les même conditions.\n",
    "\n",
    "  \n",
    "## Problematique :\n",
    " - **quelle solution permettrait la communication vers l’extérieur dans ce genre de situation ?**\n",
    "\n",
    "\n",
    "## Solution :\n",
    "```mermaid\n",
    "sequenceDiagram\n",
    "    \n",
    "    Objet->>Micro: branché !\n",
    "    Micro-->>Réseau: émission des ondes \n",
    "    participant Réseau\n",
    "    Agence_AIL3C--)Réseau: Détection du signal \n",
    "    Agence_AIL3C-)Agence_AIL3C: Décodage \n",
    "\n",
    "\n",
    "```\n",
    "\n",
    "\n",
    "### Explications :\n",
    "Afin de permettre la communication entre l'agence et l'espion K57, un outil éméttant des ultrasons (qui sont des ondes mécanique et élastique, qui se propagent au travers de supports. Les fréquences des ultrasons se situent au-delà de 20 000 Hz.) et disposant de capteurs ultrasoniques devra être créer. Permettant par la suite, une transmission via le micro (par branchement ou autre), lui même connecté au réseau, afin d'émettre les ultrasons sous forme de signal codé, à partir duquel, l'agence étant connectée elle aussi au Réseau, pourra le récupérer et le décoder afin de pouvoir communiquer avec l'agent en mission d'infiltration. Sans que les pirates ne puisse traduire la communication étant donné qu'eux aussi on accès au système réseau. De plus, Les ondes ultrasons sont le meilleur choix dû au fait qu'elles sont inaudible par l'Homme, ce qui empêcherait l'agent K57 de se faire repérer."
   ]
  },
  {
   "cell_type": "code",
   "execution_count": null,
   "id": "76dbec98-2133-4e51-b453-5fa48a55a258",
   "metadata": {},
   "outputs": [],
   "source": []
  }
 ],
 "metadata": {
  "kernelspec": {
   "display_name": "Python 3 (ipykernel)",
   "language": "python",
   "name": "python3"
  },
  "language_info": {
   "codemirror_mode": {
    "name": "ipython",
    "version": 3
   },
   "file_extension": ".py",
   "mimetype": "text/x-python",
   "name": "python",
   "nbconvert_exporter": "python",
   "pygments_lexer": "ipython3",
   "version": "3.12.7"
  }
 },
 "nbformat": 4,
 "nbformat_minor": 5
}
